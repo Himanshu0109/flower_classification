{
 "cells": [
  {
   "cell_type": "code",
   "execution_count": 1,
   "metadata": {},
   "outputs": [
    {
     "name": "stderr",
     "output_type": "stream",
     "text": [
      "Using TensorFlow backend.\n"
     ]
    }
   ],
   "source": [
    "from keras.models import Sequential\n",
    "from keras.layers import Convolution2D\n",
    "from keras.layers import MaxPooling2D\n",
    "from keras.layers import Flatten\n",
    "from keras.layers import Dense"
   ]
  },
  {
   "cell_type": "code",
   "execution_count": 2,
   "metadata": {},
   "outputs": [],
   "source": [
    "md = Sequential()"
   ]
  },
  {
   "cell_type": "code",
   "execution_count": 3,
   "metadata": {},
   "outputs": [
    {
     "name": "stdout",
     "output_type": "stream",
     "text": [
      "WARNING:tensorflow:From C:\\Users\\Himanshu Khandpur\\Anaconda3\\lib\\site-packages\\tensorflow\\python\\ops\\resource_variable_ops.py:435: colocate_with (from tensorflow.python.framework.ops) is deprecated and will be removed in a future version.\n",
      "Instructions for updating:\n",
      "Colocations handled automatically by placer.\n"
     ]
    },
    {
     "name": "stderr",
     "output_type": "stream",
     "text": [
      "C:\\Users\\Himanshu Khandpur\\Anaconda3\\lib\\site-packages\\ipykernel_launcher.py:2: UserWarning: Update your `Conv2D` call to the Keras 2 API: `Conv2D(32, (3, 3), input_shape=(64, 64, 3..., activation=\"relu\")`\n",
      "  \n"
     ]
    }
   ],
   "source": [
    "# Step 1 - Convolution\n",
    "md.add(Convolution2D(32, 3, 3, input_shape = (64, 64, 3), activation = 'relu'))\n",
    "\n",
    "#md = Sequential([\n",
    "    # Block 1\n",
    "    #Convolution2D(64, (3, 3), activation='relu', input_shape= (64,64,3), padding='same'),\n",
    "    #Convolution2D(64, (3, 3), activation='relu', padding='same'),\n",
    "    #MaxPooling2D(pool_size=(2, 2), strides=(2, 2)),\n",
    "    # Block 2\n",
    "    #Convolution2D(128, (3, 3), activation='relu', padding='same'),\n",
    "    #Convolution2D(128, (3, 3), activation='relu', padding='same'),\n",
    "    #MaxPooling2D(pool_size=(2, 2), strides=(2, 2)),\n",
    "    # Block 3\n",
    "    #Convolution2D(256, (3, 3), activation='relu', padding='same'),\n",
    "    #Convolution2D(256, (3, 3), activation='relu', padding='same'),\n",
    "    #Convolution2D(256, (3, 3), activation='relu', padding='same'),\n",
    "    #MaxPooling2D(pool_size=(2, 2), strides=(2, 2)),\n",
    "    # Block 4\n",
    "    #Convolution2D(512, (3, 3), activation='relu', padding='same'),\n",
    "    #Convolution2D(512, (3, 3), activation='relu', padding='same'),\n",
    "    #Convolution2D(512, (3, 3), activation='relu', padding='same'),\n",
    "    #MaxPooling2D(pool_size=(2, 2), strides=(2, 2)),\n",
    "    # Block 5\n",
    "    #Convolution2D(512, (3, 3), activation='relu', padding='same',),\n",
    "    #Convolution2D(512, (3, 3), activation='relu', padding='same',),\n",
    "    ##Convolution2D(512, (3, 3), activation='relu', padding='same',),\n",
    "    #MaxPooling2D(pool_size=(2, 2), strides=(2, 2)),\n",
    "    # Top\n",
    "    #Flatten(),\n",
    "    #Dense(4096, activation='relu'),\n",
    "    #Dense(4096, activation='relu'),\n",
    "    #Dense(3, activation='softmax') ])\n",
    "\n",
    "#md.summary()\n",
    "\n",
    "# Step 4 - Full connection\n",
    "#md.add(Dense(output_dim = 128, activation = 'relu'))\n",
    "#md.add(Dense(output_dim = 5, activation = 'softmax'))\n",
    "\n",
    "#md.compile(loss='categorical_crossentropy',\n",
    "              #optimizer='adam',\n",
    "              #metrics=['accuracy'])"
   ]
  },
  {
   "cell_type": "code",
   "execution_count": 4,
   "metadata": {},
   "outputs": [],
   "source": [
    "# Step 2 - Pooling\n",
    "md.add(MaxPooling2D(pool_size = (2, 2)))"
   ]
  },
  {
   "cell_type": "code",
   "execution_count": 5,
   "metadata": {},
   "outputs": [
    {
     "name": "stderr",
     "output_type": "stream",
     "text": [
      "C:\\Users\\Himanshu Khandpur\\Anaconda3\\lib\\site-packages\\ipykernel_launcher.py:2: UserWarning: Update your `Conv2D` call to the Keras 2 API: `Conv2D(32, (3, 3), activation=\"relu\")`\n",
      "  \n"
     ]
    }
   ],
   "source": [
    "# Adding a second convolutional layer\n",
    "md.add(Convolution2D(32, 3, 3, activation = 'relu'))\n",
    "md.add(MaxPooling2D(pool_size = (2, 2)))"
   ]
  },
  {
   "cell_type": "code",
   "execution_count": 6,
   "metadata": {},
   "outputs": [],
   "source": [
    "# Step 3 - Flattening\n",
    "md.add(Flatten())"
   ]
  },
  {
   "cell_type": "code",
   "execution_count": 7,
   "metadata": {},
   "outputs": [
    {
     "name": "stderr",
     "output_type": "stream",
     "text": [
      "C:\\Users\\Himanshu Khandpur\\Anaconda3\\lib\\site-packages\\ipykernel_launcher.py:2: UserWarning: Update your `Dense` call to the Keras 2 API: `Dense(activation=\"relu\", units=128)`\n",
      "  \n",
      "C:\\Users\\Himanshu Khandpur\\Anaconda3\\lib\\site-packages\\ipykernel_launcher.py:3: UserWarning: Update your `Dense` call to the Keras 2 API: `Dense(activation=\"softmax\", units=5)`\n",
      "  This is separate from the ipykernel package so we can avoid doing imports until\n"
     ]
    }
   ],
   "source": [
    "# Step 4 - Full connection\n",
    "md.add(Dense(output_dim = 128, activation = 'relu'))\n",
    "md.add(Dense(output_dim = 5, activation = 'softmax'))"
   ]
  },
  {
   "cell_type": "code",
   "execution_count": 8,
   "metadata": {},
   "outputs": [],
   "source": [
    "# Compiling the CNN\n",
    "md.compile(optimizer = 'adam', loss = 'categorical_crossentropy', metrics = ['accuracy'])"
   ]
  },
  {
   "cell_type": "code",
   "execution_count": 9,
   "metadata": {},
   "outputs": [],
   "source": [
    "# Part 2 - Fitting the CNN to the images\n",
    "from keras.preprocessing.image import ImageDataGenerator"
   ]
  },
  {
   "cell_type": "code",
   "execution_count": 10,
   "metadata": {},
   "outputs": [],
   "source": [
    "train_datagen = ImageDataGenerator(rescale = 1./255,shear_range = 0.2,zoom_range = 0.2,horizontal_flip = True)"
   ]
  },
  {
   "cell_type": "code",
   "execution_count": 11,
   "metadata": {},
   "outputs": [],
   "source": [
    "test_datagen = ImageDataGenerator(rescale = 1./255)"
   ]
  },
  {
   "cell_type": "code",
   "execution_count": 12,
   "metadata": {},
   "outputs": [
    {
     "name": "stdout",
     "output_type": "stream",
     "text": [
      "Found 3027 images belonging to 5 classes.\n"
     ]
    }
   ],
   "source": [
    "training_set = train_datagen.flow_from_directory('C:/Users/Himanshu Khandpur/Documents/model/model/flowers/train',\n",
    "                                                 target_size = (64, 64),batch_size = 32,class_mode = 'categorical')"
   ]
  },
  {
   "cell_type": "code",
   "execution_count": 13,
   "metadata": {},
   "outputs": [
    {
     "data": {
      "text/plain": [
       "'C:\\\\Users\\\\Himanshu Khandpur\\\\Documents\\\\model\\\\model'"
      ]
     },
     "execution_count": 13,
     "metadata": {},
     "output_type": "execute_result"
    }
   ],
   "source": [
    "pwd"
   ]
  },
  {
   "cell_type": "code",
   "execution_count": 14,
   "metadata": {},
   "outputs": [
    {
     "data": {
      "text/plain": [
       "'C:\\\\Users\\\\Himanshu Khandpur\\\\Documents\\\\model\\\\model'"
      ]
     },
     "execution_count": 14,
     "metadata": {},
     "output_type": "execute_result"
    }
   ],
   "source": [
    "pwd"
   ]
  },
  {
   "cell_type": "code",
   "execution_count": 15,
   "metadata": {},
   "outputs": [
    {
     "name": "stdout",
     "output_type": "stream",
     "text": [
      "Found 1296 images belonging to 5 classes.\n"
     ]
    }
   ],
   "source": [
    "test_set = test_datagen.flow_from_directory('C:/Users/Himanshu Khandpur/Documents/model/model/flowers/test',target_size = (64, 64),\n",
    "                                            batch_size = 32,class_mode = 'categorical')"
   ]
  },
  {
   "cell_type": "code",
   "execution_count": 16,
   "metadata": {},
   "outputs": [
    {
     "name": "stdout",
     "output_type": "stream",
     "text": [
      "WARNING:tensorflow:From C:\\Users\\Himanshu Khandpur\\Anaconda3\\lib\\site-packages\\tensorflow\\python\\ops\\math_ops.py:3066: to_int32 (from tensorflow.python.ops.math_ops) is deprecated and will be removed in a future version.\n",
      "Instructions for updating:\n",
      "Use tf.cast instead.\n"
     ]
    },
    {
     "name": "stderr",
     "output_type": "stream",
     "text": [
      "C:\\Users\\Himanshu Khandpur\\Anaconda3\\lib\\site-packages\\ipykernel_launcher.py:1: UserWarning: The semantics of the Keras 2 argument `steps_per_epoch` is not the same as the Keras 1 argument `samples_per_epoch`. `steps_per_epoch` is the number of batches to draw from the generator at each epoch. Basically steps_per_epoch = samples_per_epoch/batch_size. Similarly `nb_val_samples`->`validation_steps` and `val_samples`->`steps` arguments have changed. Update your method calls accordingly.\n",
      "  \"\"\"Entry point for launching an IPython kernel.\n",
      "C:\\Users\\Himanshu Khandpur\\Anaconda3\\lib\\site-packages\\ipykernel_launcher.py:1: UserWarning: Update your `fit_generator` call to the Keras 2 API: `fit_generator(<keras.pre..., validation_data=<keras.pre..., steps_per_epoch=93, epochs=25, validation_steps=1200)`\n",
      "  \"\"\"Entry point for launching an IPython kernel.\n"
     ]
    },
    {
     "name": "stdout",
     "output_type": "stream",
     "text": [
      "Epoch 1/25\n",
      "93/93 [==============================] - 133s 1s/step - loss: 1.2626 - accuracy: 0.4597 - val_loss: 1.2606 - val_accuracy: 0.5241\n",
      "Epoch 2/25\n",
      "93/93 [==============================] - 133s 1s/step - loss: 1.0696 - accuracy: 0.5588 - val_loss: 1.0470 - val_accuracy: 0.5284\n",
      "Epoch 3/25\n",
      "93/93 [==============================] - 132s 1s/step - loss: 0.9843 - accuracy: 0.6108 - val_loss: 1.2715 - val_accuracy: 0.5844\n",
      "Epoch 4/25\n",
      "93/93 [==============================] - 135s 1s/step - loss: 0.9278 - accuracy: 0.6389 - val_loss: 1.3622 - val_accuracy: 0.5924\n",
      "Epoch 5/25\n",
      "93/93 [==============================] - 132s 1s/step - loss: 0.8735 - accuracy: 0.6601 - val_loss: 1.9458 - val_accuracy: 0.5754\n",
      "Epoch 6/25\n",
      "93/93 [==============================] - 133s 1s/step - loss: 0.8097 - accuracy: 0.6885 - val_loss: 1.1945 - val_accuracy: 0.5755\n",
      "Epoch 7/25\n",
      "93/93 [==============================] - 132s 1s/step - loss: 0.7796 - accuracy: 0.7030 - val_loss: 0.8887 - val_accuracy: 0.6019\n",
      "Epoch 8/25\n",
      "93/93 [==============================] - 132s 1s/step - loss: 0.7128 - accuracy: 0.7251 - val_loss: 0.8989 - val_accuracy: 0.6123\n",
      "Epoch 9/25\n",
      "93/93 [==============================] - 132s 1s/step - loss: 0.6906 - accuracy: 0.7273 - val_loss: 1.3778 - val_accuracy: 0.6029\n",
      "Epoch 10/25\n",
      "93/93 [==============================] - 133s 1s/step - loss: 0.6757 - accuracy: 0.7425 - val_loss: 0.8541 - val_accuracy: 0.6522\n",
      "Epoch 11/25\n",
      "93/93 [==============================] - 131s 1s/step - loss: 0.6018 - accuracy: 0.7705 - val_loss: 0.8305 - val_accuracy: 0.5802\n",
      "Epoch 12/25\n",
      "93/93 [==============================] - 132s 1s/step - loss: 0.5994 - accuracy: 0.7712 - val_loss: 1.1350 - val_accuracy: 0.6242\n",
      "Epoch 13/25\n",
      "93/93 [==============================] - 131s 1s/step - loss: 0.5736 - accuracy: 0.7837 - val_loss: 1.0577 - val_accuracy: 0.6132\n",
      "Epoch 14/25\n",
      "93/93 [==============================] - 131s 1s/step - loss: 0.5003 - accuracy: 0.8208 - val_loss: 0.6111 - val_accuracy: 0.6122\n",
      "Epoch 15/25\n",
      "93/93 [==============================] - 131s 1s/step - loss: 0.5011 - accuracy: 0.8134 - val_loss: 1.0021 - val_accuracy: 0.6497\n",
      "Epoch 16/25\n",
      "93/93 [==============================] - 132s 1s/step - loss: 0.4647 - accuracy: 0.8275 - val_loss: 1.8737 - val_accuracy: 0.6236\n",
      "Epoch 17/25\n",
      "93/93 [==============================] - 131s 1s/step - loss: 0.4713 - accuracy: 0.8192 - val_loss: 1.0243 - val_accuracy: 0.6512\n",
      "Epoch 18/25\n",
      "93/93 [==============================] - 130s 1s/step - loss: 0.3982 - accuracy: 0.8553 - val_loss: 1.1906 - val_accuracy: 0.6025\n",
      "Epoch 19/25\n",
      "93/93 [==============================] - 132s 1s/step - loss: 0.3825 - accuracy: 0.8616 - val_loss: 1.4827 - val_accuracy: 0.6384\n",
      "Epoch 20/25\n",
      "93/93 [==============================] - 131s 1s/step - loss: 0.3580 - accuracy: 0.8650 - val_loss: 1.5931 - val_accuracy: 0.6233\n",
      "Epoch 21/25\n",
      "93/93 [==============================] - 131s 1s/step - loss: 0.3377 - accuracy: 0.8827 - val_loss: 1.6906 - val_accuracy: 0.6200\n",
      "Epoch 22/25\n",
      "93/93 [==============================] - 130s 1s/step - loss: 0.3005 - accuracy: 0.8894 - val_loss: 1.4149 - val_accuracy: 0.6295\n",
      "Epoch 23/25\n",
      "93/93 [==============================] - 131s 1s/step - loss: 0.3168 - accuracy: 0.8849 - val_loss: 1.4149 - val_accuracy: 0.6386\n",
      "Epoch 24/25\n",
      "93/93 [==============================] - 131s 1s/step - loss: 0.2894 - accuracy: 0.8990 - val_loss: 1.1419 - val_accuracy: 0.6307\n",
      "Epoch 25/25\n",
      "93/93 [==============================] - 131s 1s/step - loss: 0.2508 - accuracy: 0.9065 - val_loss: 2.3623 - val_accuracy: 0.5837\n"
     ]
    },
    {
     "data": {
      "text/plain": [
       "<keras.callbacks.callbacks.History at 0x2517415ce80>"
      ]
     },
     "execution_count": 16,
     "metadata": {},
     "output_type": "execute_result"
    }
   ],
   "source": [
    "md.fit_generator(training_set,samples_per_epoch = 3000,nb_epoch = 25,validation_data = test_set,nb_val_samples = 1200)"
   ]
  },
  {
   "cell_type": "code",
   "execution_count": 17,
   "metadata": {},
   "outputs": [
    {
     "data": {
      "text/plain": [
       "['loss', 'accuracy']"
      ]
     },
     "execution_count": 17,
     "metadata": {},
     "output_type": "execute_result"
    }
   ],
   "source": [
    "md.metrics_names"
   ]
  },
  {
   "cell_type": "code",
   "execution_count": 18,
   "metadata": {},
   "outputs": [],
   "source": [
    "md.save('flowers.h5')"
   ]
  },
  {
   "cell_type": "code",
   "execution_count": null,
   "metadata": {},
   "outputs": [],
   "source": []
  },
  {
   "cell_type": "code",
   "execution_count": null,
   "metadata": {},
   "outputs": [],
   "source": []
  },
  {
   "cell_type": "code",
   "execution_count": null,
   "metadata": {},
   "outputs": [],
   "source": []
  }
 ],
 "metadata": {
  "kernelspec": {
   "display_name": "Python 3",
   "language": "python",
   "name": "python3"
  },
  "language_info": {
   "codemirror_mode": {
    "name": "ipython",
    "version": 3
   },
   "file_extension": ".py",
   "mimetype": "text/x-python",
   "name": "python",
   "nbconvert_exporter": "python",
   "pygments_lexer": "ipython3",
   "version": "3.7.3"
  }
 },
 "nbformat": 4,
 "nbformat_minor": 4
}
